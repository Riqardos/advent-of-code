{
 "cells": [
  {
   "cell_type": "code",
   "execution_count": 20,
   "metadata": {},
   "outputs": [
    {
     "name": "stdout",
     "output_type": "stream",
     "text": [
      "Part1: 68467\n",
      "Part2: 203420\n"
     ]
    }
   ],
   "source": [
    "# Day 1\n",
    "summed_calories = list(map(lambda x: sum(map(int, x.split('\\n'))), open(\"./inputs/day_1\").read().split('\\n\\n')))\n",
    "print(f\"Part1: {max(summed_calories)}\")\n",
    "print(f\"Part2: {sum(sorted(summed_calories, reverse=True)[:3])}\")\n",
    "\n"
   ]
  }
 ],
 "metadata": {
  "kernelspec": {
   "display_name": "Python 3.8.15 ('advent-of-code-A5cmK_wf')",
   "language": "python",
   "name": "python3"
  },
  "language_info": {
   "codemirror_mode": {
    "name": "ipython",
    "version": 3
   },
   "file_extension": ".py",
   "mimetype": "text/x-python",
   "name": "python",
   "nbconvert_exporter": "python",
   "pygments_lexer": "ipython3",
   "version": "3.8.15"
  },
  "orig_nbformat": 4,
  "vscode": {
   "interpreter": {
    "hash": "52397b691b89e0a9ea65709f49a7d8881dcbeb84402469eabe3c24def447f725"
   }
  }
 },
 "nbformat": 4,
 "nbformat_minor": 2
}
