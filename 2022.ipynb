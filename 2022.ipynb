{
 "cells": [
  {
   "cell_type": "code",
   "execution_count": 21,
   "metadata": {},
   "outputs": [
    {
     "name": "stdout",
     "output_type": "stream",
     "text": [
      "Part1: 68467\n",
      "Part2: 203420\n",
      "CPU times: user 1.51 ms, sys: 1.49 ms, total: 3 ms\n",
      "Wall time: 4.43 ms\n"
     ]
    }
   ],
   "source": [
    "%%time\n",
    "# Day 1\n",
    "summed_calories = list(map(lambda x: sum(map(int, x.split('\\n'))), open(\"./inputs/day_1\").read().split('\\n\\n')))\n",
    "print(f\"Part1: {max(summed_calories)}\")\n",
    "print(f\"Part2: {sum(sorted(summed_calories, reverse=True)[:3])}\")\n",
    "\n"
   ]
  },
  {
   "cell_type": "code",
   "execution_count": 10,
   "metadata": {},
   "outputs": [
    {
     "name": "stdout",
     "output_type": "stream",
     "text": [
      "Part1: 14827\n",
      "Part2: 13889\n",
      "CPU times: user 2.81 ms, sys: 1.63 ms, total: 4.45 ms\n",
      "Wall time: 3.47 ms\n"
     ]
    }
   ],
   "source": [
    "%%time\n",
    "\n",
    "from functools import reduce\n",
    "# Day 2\n",
    "config = {\n",
    "    \"X\": { # Rock\n",
    "        \"score\": 1,\n",
    "        \"winsover\": \"C\", # Scissors\n",
    "        \"draw\": \"A\" # Rock\n",
    "    },\n",
    "    \"Y\": { # Paper\n",
    "        \"score\": 2,\n",
    "        \"winsover\": \"A\", # Rock\n",
    "        \"draw\": \"B\" # Paper\n",
    "    },\n",
    "    \"Z\": { # Scissors\n",
    "        \"score\": 3,\n",
    "        \"winsover\": \"B\", # Paper\n",
    "        \"draw\": \"C\" # Scissors\n",
    "    }\n",
    "}\n",
    "\n",
    "file = open(\"./inputs/day_2\")\n",
    "\n",
    "count_score = lambda x,y: config[y][\"score\"] + ( 6 if config[y][\"winsover\"] == x else (3 if config[y][\"draw\"] == x else 0) )\n",
    "sum = reduce(lambda acc, item: acc + count_score(item[0], item[2]), file.read().splitlines(), 0)\n",
    "print(f\"Part1: {sum}\")\n",
    "\n",
    "file.seek(0)\n",
    "matrix = {'A X': 3,'A Y': 4,'A Z': 8, 'B X': 1,'B Y': 5,'B Z': 9,'C X': 2,'C Y': 6,'C Z':7  }\n",
    "sum = reduce(lambda acc, item: acc + matrix[item],file.read().splitlines(), 0)\n",
    "print(f\"Part2: {sum}\")"
   ]
  },
  {
   "cell_type": "code",
   "execution_count": 58,
   "metadata": {},
   "outputs": [
    {
     "name": "stdout",
     "output_type": "stream",
     "text": [
      "Part1: 8072\n",
      "Part1: 2567\n",
      "CPU times: user 2.33 ms, sys: 905 µs, total: 3.24 ms\n",
      "Wall time: 2.69 ms\n"
     ]
    }
   ],
   "source": [
    "%%time\n",
    "\n",
    "# Day 3\n",
    "file = open(\"./inputs/day_3\")\n",
    "convert2priority = lambda l : ord(l) - 96 if l.islower() else ord(l) - 38\n",
    "\n",
    "lines = file.read().splitlines()\n",
    "priority_sum = 0\n",
    "group_priority_sum = 0\n",
    "for index, line in enumerate(lines):\n",
    "    # Part 1\n",
    "    first_compartment, second_compartment = set(line[:len(line)//2]), set(line[len(line)//2:])\n",
    "    interesection = first_compartment.intersection(second_compartment)\n",
    "    priority_sum += convert2priority(list(interesection)[0])\n",
    "\n",
    "    # Part 2\n",
    "    if (index + 1) % 3 == 0:\n",
    "        g1, g2, g3 = [set(x) for x in lines[index-2: index+1]]\n",
    "        g_intersection = g1.intersection(g2).intersection(g3)\n",
    "        group_priority_sum += convert2priority(list(g_intersection)[0])\n",
    "\n",
    "print(f\"Part1: {priority_sum}\")\n",
    "print(f\"Part1: {group_priority_sum}\")"
   ]
  }
 ],
 "metadata": {
  "kernelspec": {
   "display_name": "Python 3.8.15 ('advent-of-code-A5cmK_wf')",
   "language": "python",
   "name": "python3"
  },
  "language_info": {
   "codemirror_mode": {
    "name": "ipython",
    "version": 3
   },
   "file_extension": ".py",
   "mimetype": "text/x-python",
   "name": "python",
   "nbconvert_exporter": "python",
   "pygments_lexer": "ipython3",
   "version": "3.8.15"
  },
  "orig_nbformat": 4,
  "vscode": {
   "interpreter": {
    "hash": "52397b691b89e0a9ea65709f49a7d8881dcbeb84402469eabe3c24def447f725"
   }
  }
 },
 "nbformat": 4,
 "nbformat_minor": 2
}
