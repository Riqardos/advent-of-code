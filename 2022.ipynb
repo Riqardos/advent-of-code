{
 "cells": [
  {
   "cell_type": "code",
   "execution_count": 10,
   "metadata": {},
   "outputs": [
    {
     "data": {
      "text/plain": [
       "68467"
      ]
     },
     "execution_count": 10,
     "metadata": {},
     "output_type": "execute_result"
    }
   ],
   "source": [
    "# Task 1\n",
    "max(map(lambda x: sum(list(map(int, x.split('\\n')))), open(\"./inputs/task_1\").read().split('\\n\\n')))\n"
   ]
  }
 ],
 "metadata": {
  "kernelspec": {
   "display_name": "Python 3.8.15 ('advent-of-code-A5cmK_wf')",
   "language": "python",
   "name": "python3"
  },
  "language_info": {
   "codemirror_mode": {
    "name": "ipython",
    "version": 3
   },
   "file_extension": ".py",
   "mimetype": "text/x-python",
   "name": "python",
   "nbconvert_exporter": "python",
   "pygments_lexer": "ipython3",
   "version": "3.8.15"
  },
  "orig_nbformat": 4,
  "vscode": {
   "interpreter": {
    "hash": "52397b691b89e0a9ea65709f49a7d8881dcbeb84402469eabe3c24def447f725"
   }
  }
 },
 "nbformat": 4,
 "nbformat_minor": 2
}
